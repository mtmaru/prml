{
 "cells": [
  {
   "cell_type": "markdown",
   "metadata": {},
   "source": [
    "# PRML 1.2 確率論"
   ]
  },
  {
   "cell_type": "markdown",
   "metadata": {},
   "source": [
    "---"
   ]
  },
  {
   "cell_type": "markdown",
   "metadata": {},
   "source": [
    "## 概論"
   ]
  },
  {
   "cell_type": "markdown",
   "metadata": {},
   "source": [
    "### 本節の目的"
   ]
  },
  {
   "cell_type": "markdown",
   "metadata": {},
   "source": [
    "* 機械学習の重要なツールのひとつである確率の導入を行う。"
   ]
  },
  {
   "cell_type": "markdown",
   "metadata": {},
   "source": [
    "### アウトライン"
   ]
  },
  {
   "cell_type": "markdown",
   "metadata": {},
   "source": [
    "* 1.2.0節\n",
    "    * 本書で用いる確率表記\n",
    "    * 離散的な集合に対する確率の基本法則\n",
    "* 1.2.1節\n",
    "    * 連続的な集合に対する確率の基本法則\n",
    "    * 確率変数の変換"
   ]
  },
  {
   "cell_type": "markdown",
   "metadata": {},
   "source": [
    "---"
   ]
  },
  {
   "cell_type": "markdown",
   "metadata": {},
   "source": [
    "## 1.2.0節"
   ]
  },
  {
   "cell_type": "markdown",
   "metadata": {},
   "source": [
    "### 本書で用いる確率表記"
   ]
  },
  {
   "cell_type": "markdown",
   "metadata": {},
   "source": [
    "一般的な統計学の教科書では確率変数と確率変数が取り得る値を区別して $p(X = x)$ のように表記するが、PRML では簡潔な表記を用いる。\n",
    "\n",
    "* 確率変数\n",
    "    * $X$\n",
    "* 確率変数が取り得る値\n",
    "    * $x$\n",
    "* 確率変数 $X$ 上の確率分布\n",
    "    * $p(X)$\n",
    "* 確率変数 $X$ 上の確率分布が特定の値 $x$ を取る確率\n",
    "    * $p(x)$"
   ]
  },
  {
   "cell_type": "markdown",
   "metadata": {},
   "source": [
    "### 離散的な集合に対する確率の基本法則"
   ]
  },
  {
   "cell_type": "markdown",
   "metadata": {},
   "source": [
    "* 確率 (probability)\n",
    "    * $p(X)$\n",
    "    * $p(X) \\gt 0$、$\\sum_X p(X) = 1$ を満たす\n",
    "* 同時確率 (joint probability)\n",
    "    * $p(X, Y)$\n",
    "    * $X$ かつ $Y$ の確率\n",
    "* 条件付き確率 (conditional probability)\n",
    "    * $p(Y \\mid X) = p(X, Y) \\mathbin{/} p(X)$\n",
    "    * $X$ が与えられた下での $Y$ の確率\n",
    "\n",
    "\n",
    "* 加法定理 (sum rule)\n",
    "    * $p(X) = \\sum_{Y}{p(X, Y)}$\n",
    "    * この場合の $p(x)$ は、$Y$ についての周辺確率 (marginal probability) と呼ばれる\n",
    "    * 現代確率論において加法定理は確率の公理のひとつであり、加法定理という呼び名はあまり使われない\n",
    "* 乗法定理 (product rule)\n",
    "    * $p(X, Y) = p(Y \\mid X) p(X)$\n",
    "    * 乗法定理は条件付き確率の定義そのものであり、乗法定理という呼び名はあまり使われない\n",
    "\n",
    "\n",
    "* ベイズの定理\n",
    "    * $p(Y \\mid X) = p(X \\mid Y) p(Y) \\mathbin{/} p(X)$\n",
    "    * $p(X) = \\sum_{Y} p(X \\mid Y) p(Y)$ だから、$p(X)$ は $p(X \\mid Y) p(Y)$ を正規化する役割を果たす\n",
    "* 事前確率\n",
    "    * $p(Y)$\n",
    "    * $X$ を観測する事前の確率\n",
    "* 事後確率\n",
    "    * $p(Y \\mid X)$\n",
    "    * $X$ を観測した事後の確率\n",
    "\n",
    "\n",
    "* 独立 (independent)\n",
    "    * $p(X, Y) = p(X) p(Y)$\n",
    "    * $p(Y \\mid X) = p(Y)$"
   ]
  },
  {
   "cell_type": "markdown",
   "metadata": {},
   "source": [
    "## 1.2.1節 確率密度"
   ]
  },
  {
   "cell_type": "markdown",
   "metadata": {},
   "source": [
    "### 連続的な集合に対する確率の基本法則"
   ]
  },
  {
   "cell_type": "markdown",
   "metadata": {},
   "source": [
    "* 確率密度 (probability density)\n",
    "    * $p(x)$\n",
    "    * 実数値を取る変数 $x$ が区間 $(x, x + \\delta x)$ に入る確率\n",
    "    * $p(x) \\gt 0$、$\\int{p(x) \\; \\mathrm{d}x} = 1$ を満たす\n",
    "* 多変量確率密度\n",
    "    * $p(\\mathbf{x})$\n",
    "    * 変数 $x_1, x_2, \\dots, x_D$ の同時確率密度\n",
    "    * $p(\\mathbf{x}) \\gt 0$、$\\int{p(\\mathbf{x}) \\; \\mathrm{d}\\mathbf{x}} = 1$ を満たす\n",
    "\n",
    "\n",
    "* 確率の求め方\n",
    "    * $p(x \\in (a, b)) = \\int^a_b{p(x) \\; \\mathrm{d}x}$\n",
    "    * 確率密度を区間で積分すると、確率変数がその区間に入る確率を求められる\n",
    "* 累積分布関数 (cumulative distribution function)\n",
    "    * $P(z) = \\int^z_{-\\infty}{p(x) \\; \\mathrm{d}x}$\n",
    "    * $x$ が区間 $(-\\infty, z)$ に入る確率\n",
    "    * $P^{\\prime}(x) = p(x)$ を満たす\n",
    "\n",
    "\n",
    "* 加法定理\n",
    "    * $p(x) = \\int{p(x, y) \\; \\mathrm{d}x}$\n",
    "* 乗法定理\n",
    "    * $p(x, y) = p(y \\mid x)p(x)$"
   ]
  },
  {
   "cell_type": "markdown",
   "metadata": {},
   "source": [
    "### 確率変数の変換"
   ]
  },
  {
   "cell_type": "markdown",
   "metadata": {},
   "source": [
    "確率変数 $x$ に変数変換 $x = g(y)$ をかけると、確率密度も以下のように変化する。<br>\n",
    "これは、確率密度の最大値は確率変数の選び方に依存することを示している。\n",
    "\n",
    "$$\n",
    "p_y(y) = p_x(x) \\left|\\frac{\\mathrm{d}x}{\\mathrm{d}y} \\right|\n",
    "$$"
   ]
  },
  {
   "cell_type": "markdown",
   "metadata": {},
   "source": [
    "具体例として、一様分布に従う確率変数 $x$ ($0 \\le x \\le 1$) に対して $x = g(y) = y^3$ という変換をかけることを考える。<br>\n",
    "$x$ の確率密度は $p_x(x) = 1 \\mathbin{/} (1 - 0) = 1$ となる。"
   ]
  },
  {
   "cell_type": "code",
   "execution_count": 1,
   "metadata": {},
   "outputs": [],
   "source": [
    "import numpy as np\n",
    "from matplotlib import pyplot as plt"
   ]
  },
  {
   "cell_type": "code",
   "execution_count": 84,
   "metadata": {},
   "outputs": [],
   "source": [
    "px = np.vectorize(lambda x: 1)"
   ]
  },
  {
   "cell_type": "markdown",
   "metadata": {},
   "source": [
    "$p_x(x)$ を図示すると次のようになる。<br>\n",
    "青色の領域は $x$ が区間 $(0.4, 0.5)$ に入る確率を表しており、その値は $(0.5 - 0.4) \\times 1 = 0.1$ である。"
   ]
  },
  {
   "cell_type": "code",
   "execution_count": 104,
   "metadata": {},
   "outputs": [],
   "source": [
    "x = np.linspace(0, 1, 11)"
   ]
  },
  {
   "cell_type": "code",
   "execution_count": 105,
   "metadata": {},
   "outputs": [
    {
     "data": {
      "image/png": "[encoded data removed]",
      "text/plain": [
       "<Figure size 432x288 with 1 Axes>"
      ]
     },
     "metadata": {
      "needs_background": "light"
     },
     "output_type": "display_data"
    }
   ],
   "source": [
    "plt.fill_between(np.linspace(x[4], x[5], 100), np.zeros(100), px(np.linspace(x[4], x[5], 100)))\n",
    "plt.plot(np.linspace(0, 1, 100), px(np.linspace(0, 1, 100)))\n",
    "plt.vlines(x, 0, 1)\n",
    "plt.ylim(-0.1, 3.1)\n",
    "plt.show()"
   ]
  },
  {
   "cell_type": "markdown",
   "metadata": {},
   "source": [
    "ここで、$x = g(y) = y^3$ を $y$ について解くと、$y = g^{-1}(x) = \\sqrt[3]{x}$ となる。"
   ]
  },
  {
   "cell_type": "code",
   "execution_count": 85,
   "metadata": {},
   "outputs": [],
   "source": [
    "g = np.vectorize(lambda y: y ** 3)"
   ]
  },
  {
   "cell_type": "code",
   "execution_count": 86,
   "metadata": {},
   "outputs": [],
   "source": [
    "g_inv = np.vectorize(lambda x: x ** (1 / 3))"
   ]
  },
  {
   "cell_type": "markdown",
   "metadata": {},
   "source": [
    "$p_y(y) = p_x(x) \\left|\\frac{\\mathrm{d}x}{\\mathrm{d}y} \\right|$ に $x = g(y)$ と $\\frac{\\mathrm{d}x}{\\mathrm{d}y} = 3y^2$ を代入すると、$y$ の確率密度は $p_y(y) = p_x(g(y)) \\bullet 3y^2$ となる。"
   ]
  },
  {
   "cell_type": "code",
   "execution_count": 89,
   "metadata": {},
   "outputs": [],
   "source": [
    "py = np.vectorize(lambda y: px(g(y)) * 3 * (y ** 2))"
   ]
  },
  {
   "cell_type": "markdown",
   "metadata": {},
   "source": [
    "$p_x(x)$ と同様に、$p_y(y)$ を図示すると次のようになる。<br>\n",
    "青色の領域は $y$ が区間 $(\\sqrt[3]{0.4}, \\sqrt[3]{0.5})$ に入る確率を表しているが、これは変換前の $x$ が区間 $(0.4, 0.5)$ に入る確率と等しくなるので $0.1$ になる。<br>\n",
    "変数変換により区間が狭まった分、確率密度が大きくなっていることがわかる。"
   ]
  },
  {
   "cell_type": "code",
   "execution_count": 106,
   "metadata": {},
   "outputs": [],
   "source": [
    "y = x ** (1 / 3)"
   ]
  },
  {
   "cell_type": "code",
   "execution_count": 107,
   "metadata": {},
   "outputs": [
    {
     "data": {
      "image/png": "[encoded data removed]",
      "text/plain": [
       "<Figure size 432x288 with 1 Axes>"
      ]
     },
     "metadata": {
      "needs_background": "light"
     },
     "output_type": "display_data"
    }
   ],
   "source": [
    "plt.fill_between(np.linspace(y[4], y[5], 100), np.zeros(100), np.abs(py(np.linspace(y[4], y[5], 100))))\n",
    "plt.plot(np.linspace(0, 1, 100), np.abs(py(np.linspace(0, 1, 100))))\n",
    "plt.vlines(y, 0, np.abs(py(y)))\n",
    "plt.ylim(-0.1, 3.1)\n",
    "plt.show()"
   ]
  },
  {
   "cell_type": "markdown",
   "metadata": {},
   "source": [
    "以上の例のように、変数変換によって確率変数の粗密は変化するが確率 (面積) は変換前後で変化しないため、<br>\n",
    "疎になった領域における確率密度は変換前よりも小さく、<br>\n",
    "密になった領域における確率密度は変換前よりも大きくなる。<br>\n",
    "その結果、確率密度の最大値は確率変数の選び方次第で変わる。<br>\n",
    "例では、変換前は最大値を取る $x$ は定まらないが、変換後は $y = 1$ で最大値 $3$ を取る。"
   ]
  },
  {
   "cell_type": "markdown",
   "metadata": {},
   "source": [
    "---"
   ]
  },
  {
   "cell_type": "markdown",
   "metadata": {},
   "source": [
    "<div id=\"disqus_thread\"></div>\n",
    "<script>\n",
    "var disqus_config = function () {\n",
    "this.page.url = \"http://nbviewer.jupyter.org/github/mtmaru/prml/blob/master/PRML_1_2_0.ipynb\";\n",
    "this.page.identifier = this.page.url;\n",
    "};\n",
    "(function() { // DON'T EDIT BELOW THIS LINE\n",
    "var d = document, s = d.createElement('script');\n",
    "s.src = 'https://prml-mtmaru.disqus.com/embed.js';\n",
    "s.setAttribute('data-timestamp', +new Date());\n",
    "(d.head || d.body).appendChild(s);\n",
    "})();\n",
    "</script>"
   ]
  }
 ],
 "metadata": {
  "kernelspec": {
   "display_name": "Python 3",
   "language": "python",
   "name": "python3"
  },
  "language_info": {
   "codemirror_mode": {
    "name": "ipython",
    "version": 3
   },
   "file_extension": ".py",
   "mimetype": "text/x-python",
   "name": "python",
   "nbconvert_exporter": "python",
   "pygments_lexer": "ipython3",
   "version": "3.6.7"
  }
 },
 "nbformat": 4,
 "nbformat_minor": 2
}
