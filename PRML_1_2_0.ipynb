{
 "cells": [
  {
   "cell_type": "markdown",
   "metadata": {},
   "source": [
    "# PRML 1.2 確率論"
   ]
  },
  {
   "cell_type": "markdown",
   "metadata": {},
   "source": [
    "---"
   ]
  },
  {
   "cell_type": "markdown",
   "metadata": {},
   "source": [
    "## 概論"
   ]
  },
  {
   "cell_type": "markdown",
   "metadata": {},
   "source": [
    "### 本節の目的"
   ]
  },
  {
   "cell_type": "markdown",
   "metadata": {},
   "source": [
    "* 確率の基本法則を説明する。"
   ]
  },
  {
   "cell_type": "markdown",
   "metadata": {},
   "source": [
    "### アウトライン"
   ]
  },
  {
   "cell_type": "markdown",
   "metadata": {},
   "source": [
    "* 本書で用いる確率表記\n",
    "    * PRML では一般的な統計学の教科書とは異なる、簡潔な確率表記を用いる\n",
    "* 確率の基本法則\n",
    "    * 同時確率、条件付き確率\n",
    "    * 加法定理、乗法定理\n",
    "    * ベイズの定理、事前確率、事後確率\n",
    "    * 独立"
   ]
  },
  {
   "cell_type": "markdown",
   "metadata": {},
   "source": [
    "---"
   ]
  },
  {
   "cell_type": "markdown",
   "metadata": {},
   "source": [
    "## 詳細"
   ]
  },
  {
   "cell_type": "markdown",
   "metadata": {},
   "source": [
    "### 本書で用いる確率表記"
   ]
  },
  {
   "cell_type": "markdown",
   "metadata": {},
   "source": [
    "一般的な統計学の教科書では確率変数と確率変数が取り得る値を区別して $p(X = x)$ のように表記するが、PRML では簡潔な表記を用いる。\n",
    "\n",
    "* 確率変数\n",
    "    * $X$\n",
    "* 確率変数が取り得る値\n",
    "    * $x$\n",
    "* 確率変数 $X$ 上の確率分布\n",
    "    * $p(X)$\n",
    "* 確率変数 $X$ 上の確率分布が特定の値 $x$ を取る確率\n",
    "    * $p(x)$"
   ]
  },
  {
   "cell_type": "markdown",
   "metadata": {},
   "source": [
    "### 確率の基本法則"
   ]
  },
  {
   "cell_type": "markdown",
   "metadata": {},
   "source": [
    "* 同時確率 (joint probability)\n",
    "    * $p(X, Y)$\n",
    "    * $X$ かつ $Y$ の確率\n",
    "* 条件付き確率 (conditional probability)\n",
    "    * $p(Y \\mid X) = p(X, Y) \\mathbin{/} p(X)$\n",
    "    * $X$ が与えられた下での $Y$ の確率\n",
    "\n",
    "\n",
    "* 加法定理 (sum rule)\n",
    "    * $p(X) = \\sum_{Y}{p(X, Y)}$\n",
    "    * この場合の $p(x)$ は、$Y$ についての周辺確率 (marginal probability) と呼ばれる\n",
    "    * 現代確率論において加法定理は確率の公理のひとつであり、加法定理という呼び名はあまり使われない\n",
    "* 乗法定理 (product rule)\n",
    "    * $p(X, Y) = p(Y \\mid X) p(X)$\n",
    "    * 乗法定理は条件付き確率の定義そのものであり、乗法定理という呼び名はあまり使われない\n",
    "\n",
    "\n",
    "* ベイズの定理\n",
    "    * $p(Y \\mid X) = p(X \\mid Y) p(Y) \\mathbin{/} p(X)$\n",
    "    * $p(X) = \\sum_{Y} p(X \\mid Y) p(Y)$ だから、$p(X)$ は $p(X \\mid Y) p(Y)$ を正規化する役割を果たす\n",
    "* 事前確率\n",
    "    * $p(Y)$\n",
    "    * $X$ を観測する事前の確率\n",
    "* 事後確率\n",
    "    * $p(Y \\mid X)$\n",
    "    * $X$ を観測した事後の確率\n",
    "\n",
    "\n",
    "* 独立 (independent)\n",
    "    * $p(X, Y) = p(X) p(Y)$\n",
    "    * $p(Y \\mid X) = p(Y)$"
   ]
  },
  {
   "cell_type": "markdown",
   "metadata": {},
   "source": [
    "---"
   ]
  },
  {
   "cell_type": "markdown",
   "metadata": {},
   "source": [
    "<div id=\"disqus_thread\"></div>\n",
    "<script>\n",
    "var disqus_config = function () {\n",
    "this.page.url = \"http://nbviewer.jupyter.org/github/mtmaru/prml/blob/master/PRML_1_2_0.ipynb\";\n",
    "this.page.identifier = this.page.url;\n",
    "};\n",
    "(function() { // DON'T EDIT BELOW THIS LINE\n",
    "var d = document, s = d.createElement('script');\n",
    "s.src = 'https://prml-mtmaru.disqus.com/embed.js';\n",
    "s.setAttribute('data-timestamp', +new Date());\n",
    "(d.head || d.body).appendChild(s);\n",
    "})();\n",
    "</script>"
   ]
  }
 ],
 "metadata": {
  "kernelspec": {
   "display_name": "Python 3",
   "language": "python",
   "name": "python3"
  },
  "language_info": {
   "codemirror_mode": {
    "name": "ipython",
    "version": 3
   },
   "file_extension": ".py",
   "mimetype": "text/x-python",
   "name": "python",
   "nbconvert_exporter": "python",
   "pygments_lexer": "ipython3",
   "version": "3.6.7"
  }
 },
 "nbformat": 4,
 "nbformat_minor": 2
}
